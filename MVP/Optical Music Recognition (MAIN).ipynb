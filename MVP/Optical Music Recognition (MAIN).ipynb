{
 "cells": [
  {
   "cell_type": "markdown",
   "metadata": {},
   "source": [
    "# Optical Music Recognition\n",
    "**By: Sarah Alabdulwahab & Asma Althakafi**\n",
    "> Optical Music Recognition (OMR) is software that essentially teaches the machine to read sheet music. The aim of this project is to develop a sheet music reader which will classify each music note then produce an audio file of the music it read."
   ]
  },
  {
   "cell_type": "code",
   "execution_count": 1,
   "metadata": {},
   "outputs": [],
   "source": [
    "#supress warnings\n",
    "import warnings\n",
    "warnings.filterwarnings('ignore')\n",
    "\n",
    "from tqdm import tqdm\n",
    "import numpy as np\n",
    "from pre_processing import *\n",
    "from scipy.ndimage import binary_fill_holes\n",
    "from skimage.morphology import thin\n",
    "\n",
    "#Predefined models from github.com/aashrafh\n",
    "from commonfunctions import *\n",
    "from staff import coordinator\n",
    "from segmenter import Segmenter\n",
    "from connected_componentes import *\n",
    "from fit import predict\n",
    "from box import Box"
   ]
  },
  {
   "cell_type": "code",
   "execution_count": 2,
   "metadata": {},
   "outputs": [],
   "source": [
    "label_map = {0:{0: 'N0'}, 1:{0:'b2',1:'a2'}, 2:{0:'g2',1:'f2'}, 3:{0:'e2',1:'d2'}, 4:{0:'c2',1:'b1'}, 5:{0:'a1',1:'g1'}\n",
    "             , 6:{0:'f1',1:'e1'}, 7:{0:'d1',1:'c1'}}"
   ]
  },
  {
   "cell_type": "code",
   "execution_count": 3,
   "metadata": {},
   "outputs": [],
   "source": [
    "def read_all_images(num_of_images):\n",
    "    all_images_list = []\n",
    "    for i in range(num_of_images):\n",
    "        path = f'Notes/{i+1}.png'\n",
    "        img = gray_img(io.imread(path))\n",
    "        all_images_list.append(get_thresholded(img, threshold_otsu(img)))\n",
    "    return all_images_list"
   ]
  },
  {
   "cell_type": "code",
   "execution_count": 4,
   "metadata": {},
   "outputs": [],
   "source": [
    "def segmenting(img):\n",
    "    segmenter = Segmenter(get_thresholded(img, threshold_otsu(img))) #binary image\n",
    "    imgs_with_staff = segmenter.regions_with_staff\n",
    "    imgs_spacing, imgs_rows, coord_imgs  = [], [], []\n",
    "    for i, img in enumerate(imgs_with_staff):\n",
    "        spacing, rows, no_staff_img = coordinator(img,IsHorizontal(img))\n",
    "        imgs_rows.append(rows)\n",
    "        imgs_spacing.append(spacing)\n",
    "        coord_imgs.append(no_staff_img)\n",
    "    return segmenter, imgs_spacing, imgs_rows, coord_imgs, imgs_with_staff"
   ]
  },
  {
   "cell_type": "code",
   "execution_count": 5,
   "metadata": {},
   "outputs": [],
   "source": [
    "def estim(c, idx, imgs_spacing, imgs_rows):\n",
    "    spacing = imgs_spacing[idx]\n",
    "    rows = imgs_rows[idx]\n",
    "    margin = 1+(spacing/4)\n",
    "    for index,line in enumerate (rows):\n",
    "        if c >= line - margin and c <= line + margin:\n",
    "            return index+1, 0\n",
    "        elif c >= line + margin and c <= line + 3*margin:\n",
    "            return index+1, 1\n",
    "    return 0, 0 "
   ]
  },
  {
   "cell_type": "code",
   "execution_count": 6,
   "metadata": {},
   "outputs": [],
   "source": [
    "def filter_beams(prims, prim_with_staff, bounds):\n",
    "    n_bounds = []\n",
    "    n_prims = []\n",
    "    n_prim_with_staff = []\n",
    "    for i, prim in enumerate(prims):\n",
    "        if prim.shape[1] >= 2*prim.shape[0]:\n",
    "            continue\n",
    "        else:\n",
    "            n_bounds.append(bounds[i])\n",
    "            n_prims.append(prims[i])\n",
    "            n_prim_with_staff.append(prim_with_staff[i])\n",
    "    return n_prims, n_prim_with_staff, n_bounds"
   ]
  },
  {
   "cell_type": "code",
   "execution_count": 7,
   "metadata": {},
   "outputs": [],
   "source": [
    "def get_labeled_data(img):\n",
    "    labels_list, images_list = [], []\n",
    "    segmenter, imgs_spacing, imgs_rows, coord_imgs, imgs_with_staff = segmenting(img)\n",
    "    black_names = ['4', '8', '8_b_n', '8_b_r', '16', '16_b_n', '16_b_r', '32', '32_b_n', '32_b_r', 'a_4', \n",
    "                   'a_8', 'a_16', 'a_32', 'chord']\n",
    "    disk_size = segmenter.most_common / 4\n",
    "    for i, img in enumerate(coord_imgs):\n",
    "        primitives, prim_with_staff, boundary = get_connected_components(img, imgs_with_staff[i])\n",
    "        for j, prim in enumerate(primitives):\n",
    "            prim = binary_opening(prim, square(segmenter.most_common-imgs_spacing[i]))\n",
    "            label = predict((255*(1 - prim)).astype(np.uint8))[0]\n",
    "            if label in black_names:\n",
    "                test_img = binary_dilation(np.copy(prim_with_staff[j]), disk(disk_size))\n",
    "                comps, comp_w_staff, bounds = get_connected_components(test_img, prim_with_staff[j])\n",
    "                comps, comp_w_staff, bounds = filter_beams(comps, comp_w_staff, bounds)\n",
    "                bounds = [np.array(bound)+disk_size-2 for bound in bounds]\n",
    "                if len(bounds) <= 1 or label in ['8_b_n', '8_b_r', '16_b_n', '16_b_r', '32_b_n', '32_b_r']:\n",
    "                    for bbox in bounds:\n",
    "                        line_idx, p = estim(int(bbox[2]+boundary[j][0]), i, imgs_spacing, imgs_rows)\n",
    "                        labels_list.append(label_map[line_idx][p])\n",
    "                        images_list.append(prim_with_staff[j])\n",
    "            elif label in ['2', 'a_2']:\n",
    "                head_img = binary_closing(1-binary_fill_holes(1-prim), disk(disk_size))\n",
    "                comps, comp_w_staff, bounds = get_connected_components(head_img, prim_with_staff[j])\n",
    "                for bbox in bounds:\n",
    "                    line_idx, p = estim(int(bbox[2]+boundary[j][0]), i, imgs_spacing, imgs_rows)\n",
    "                    labels_list.append(label_map[line_idx][p])\n",
    "                    images_list.append(prim_with_staff[j])\n",
    "            elif label in ['1', 'a_1']:\n",
    "                line_idx, p = estim(int(boundary[j][2]), i, imgs_spacing, imgs_rows)\n",
    "                labels_list.append(label_map[line_idx][p])\n",
    "                images_list.append(prim_with_staff[j])\n",
    "    return labels_list, images_list"
   ]
  },
  {
   "cell_type": "markdown",
   "metadata": {},
   "source": [
    "## Data Collection"
   ]
  },
  {
   "cell_type": "code",
   "execution_count": 8,
   "metadata": {},
   "outputs": [
    {
     "data": {
      "text/plain": [
       "50"
      ]
     },
     "execution_count": 8,
     "metadata": {},
     "output_type": "execute_result"
    }
   ],
   "source": [
    "#testing on small data\n",
    "all_images = read_all_images(50)\n",
    "len(all_images)"
   ]
  },
  {
   "cell_type": "code",
   "execution_count": 9,
   "metadata": {},
   "outputs": [
    {
     "name": "stderr",
     "output_type": "stream",
     "text": [
      "50it [05:35,  6.72s/it]\n"
     ]
    }
   ],
   "source": [
    "all_images_labels, all_images_arr, all_images_ids =[], [], []\n",
    "for i, image in tqdm(enumerate(all_images)):\n",
    "    labels_list, images_list = get_labeled_data(image)\n",
    "    all_images_labels += labels_list\n",
    "    all_images_arr += images_list\n",
    "    all_images_ids += [i] * len(labels_list)"
   ]
  },
  {
   "cell_type": "code",
   "execution_count": 10,
   "metadata": {
    "scrolled": true
   },
   "outputs": [
    {
     "data": {
      "text/plain": [
       "['b2', 'e2', 'b2', 'N0', 'b2', 'a2', 'a2', 'a2', 'g2', 'a2']"
      ]
     },
     "execution_count": 10,
     "metadata": {},
     "output_type": "execute_result"
    }
   ],
   "source": [
    "#view some labels\n",
    "all_images_labels[:10]"
   ]
  },
  {
   "cell_type": "code",
   "execution_count": 11,
   "metadata": {},
   "outputs": [
    {
     "data": {
      "text/plain": [
       "True"
      ]
     },
     "execution_count": 11,
     "metadata": {},
     "output_type": "execute_result"
    }
   ],
   "source": [
    "#check that all lengths match\n",
    "len(all_images_labels) == len(all_images_arr) == len(all_images_ids)"
   ]
  },
  {
   "cell_type": "markdown",
   "metadata": {},
   "source": [
    "## Store The Data"
   ]
  },
  {
   "cell_type": "code",
   "execution_count": 12,
   "metadata": {},
   "outputs": [],
   "source": [
    "import pandas as pd"
   ]
  },
  {
   "cell_type": "code",
   "execution_count": 13,
   "metadata": {},
   "outputs": [
    {
     "data": {
      "text/html": [
       "<div>\n",
       "<style scoped>\n",
       "    .dataframe tbody tr th:only-of-type {\n",
       "        vertical-align: middle;\n",
       "    }\n",
       "\n",
       "    .dataframe tbody tr th {\n",
       "        vertical-align: top;\n",
       "    }\n",
       "\n",
       "    .dataframe thead th {\n",
       "        text-align: right;\n",
       "    }\n",
       "</style>\n",
       "<table border=\"1\" class=\"dataframe\">\n",
       "  <thead>\n",
       "    <tr style=\"text-align: right;\">\n",
       "      <th></th>\n",
       "      <th>ID</th>\n",
       "      <th>img</th>\n",
       "      <th>label</th>\n",
       "    </tr>\n",
       "  </thead>\n",
       "  <tbody>\n",
       "    <tr>\n",
       "      <th>0</th>\n",
       "      <td>0</td>\n",
       "      <td>[[1, 1, 1, 1, 1, 1, 1, 1, 1, 1, 1, 1, 1, 1, 1,...</td>\n",
       "      <td>b2</td>\n",
       "    </tr>\n",
       "    <tr>\n",
       "      <th>1</th>\n",
       "      <td>0</td>\n",
       "      <td>[[1, 1, 1, 1, 1, 1, 1, 1, 1, 1, 1, 1, 1, 1, 1,...</td>\n",
       "      <td>e2</td>\n",
       "    </tr>\n",
       "    <tr>\n",
       "      <th>2</th>\n",
       "      <td>0</td>\n",
       "      <td>[[1, 1, 1, 1, 1, 1, 1, 1, 1, 1, 1, 1, 1, 1, 1,...</td>\n",
       "      <td>b2</td>\n",
       "    </tr>\n",
       "    <tr>\n",
       "      <th>3</th>\n",
       "      <td>0</td>\n",
       "      <td>[[1, 1, 1, 1, 1, 1, 1, 1, 1, 1, 1, 1, 1, 1, 1,...</td>\n",
       "      <td>N0</td>\n",
       "    </tr>\n",
       "    <tr>\n",
       "      <th>4</th>\n",
       "      <td>0</td>\n",
       "      <td>[[1, 1, 1, 1, 1, 1, 1, 1, 1, 1, 1, 1, 1, 1, 1,...</td>\n",
       "      <td>b2</td>\n",
       "    </tr>\n",
       "  </tbody>\n",
       "</table>\n",
       "</div>"
      ],
      "text/plain": [
       "   ID                                                img label\n",
       "0   0  [[1, 1, 1, 1, 1, 1, 1, 1, 1, 1, 1, 1, 1, 1, 1,...    b2\n",
       "1   0  [[1, 1, 1, 1, 1, 1, 1, 1, 1, 1, 1, 1, 1, 1, 1,...    e2\n",
       "2   0  [[1, 1, 1, 1, 1, 1, 1, 1, 1, 1, 1, 1, 1, 1, 1,...    b2\n",
       "3   0  [[1, 1, 1, 1, 1, 1, 1, 1, 1, 1, 1, 1, 1, 1, 1,...    N0\n",
       "4   0  [[1, 1, 1, 1, 1, 1, 1, 1, 1, 1, 1, 1, 1, 1, 1,...    b2"
      ]
     },
     "execution_count": 13,
     "metadata": {},
     "output_type": "execute_result"
    }
   ],
   "source": [
    "df = pd.DataFrame(data= {'ID':all_images_ids, 'img': all_images_arr, 'label': all_images_labels})\n",
    "df.head()"
   ]
  },
  {
   "cell_type": "code",
   "execution_count": 14,
   "metadata": {},
   "outputs": [
    {
     "data": {
      "text/plain": [
       "(419, 3)"
      ]
     },
     "execution_count": 14,
     "metadata": {},
     "output_type": "execute_result"
    }
   ],
   "source": [
    "df.shape"
   ]
  },
  {
   "cell_type": "code",
   "execution_count": 15,
   "metadata": {},
   "outputs": [
    {
     "data": {
      "text/html": [
       "<div>\n",
       "<style scoped>\n",
       "    .dataframe tbody tr th:only-of-type {\n",
       "        vertical-align: middle;\n",
       "    }\n",
       "\n",
       "    .dataframe tbody tr th {\n",
       "        vertical-align: top;\n",
       "    }\n",
       "\n",
       "    .dataframe thead th {\n",
       "        text-align: right;\n",
       "    }\n",
       "</style>\n",
       "<table border=\"1\" class=\"dataframe\">\n",
       "  <thead>\n",
       "    <tr style=\"text-align: right;\">\n",
       "      <th></th>\n",
       "      <th>ID</th>\n",
       "      <th>img</th>\n",
       "      <th>label</th>\n",
       "      <th>b2</th>\n",
       "      <th>e2</th>\n",
       "      <th>N0</th>\n",
       "      <th>a2</th>\n",
       "      <th>g2</th>\n",
       "      <th>d2</th>\n",
       "      <th>c2</th>\n",
       "      <th>b1</th>\n",
       "      <th>e1</th>\n",
       "      <th>g1</th>\n",
       "      <th>f2</th>\n",
       "      <th>f1</th>\n",
       "      <th>a1</th>\n",
       "      <th>d1</th>\n",
       "      <th>c1</th>\n",
       "    </tr>\n",
       "  </thead>\n",
       "  <tbody>\n",
       "    <tr>\n",
       "      <th>0</th>\n",
       "      <td>0</td>\n",
       "      <td>[[1, 1, 1, 1, 1, 1, 1, 1, 1, 1, 1, 1, 1, 1, 1,...</td>\n",
       "      <td>b2</td>\n",
       "      <td>0</td>\n",
       "      <td>0</td>\n",
       "      <td>0</td>\n",
       "      <td>0</td>\n",
       "      <td>0</td>\n",
       "      <td>0</td>\n",
       "      <td>0</td>\n",
       "      <td>0</td>\n",
       "      <td>0</td>\n",
       "      <td>0</td>\n",
       "      <td>0</td>\n",
       "      <td>0</td>\n",
       "      <td>0</td>\n",
       "      <td>0</td>\n",
       "      <td>0</td>\n",
       "    </tr>\n",
       "    <tr>\n",
       "      <th>1</th>\n",
       "      <td>0</td>\n",
       "      <td>[[1, 1, 1, 1, 1, 1, 1, 1, 1, 1, 1, 1, 1, 1, 1,...</td>\n",
       "      <td>e2</td>\n",
       "      <td>0</td>\n",
       "      <td>0</td>\n",
       "      <td>0</td>\n",
       "      <td>0</td>\n",
       "      <td>0</td>\n",
       "      <td>0</td>\n",
       "      <td>0</td>\n",
       "      <td>0</td>\n",
       "      <td>0</td>\n",
       "      <td>0</td>\n",
       "      <td>0</td>\n",
       "      <td>0</td>\n",
       "      <td>0</td>\n",
       "      <td>0</td>\n",
       "      <td>0</td>\n",
       "    </tr>\n",
       "    <tr>\n",
       "      <th>2</th>\n",
       "      <td>0</td>\n",
       "      <td>[[1, 1, 1, 1, 1, 1, 1, 1, 1, 1, 1, 1, 1, 1, 1,...</td>\n",
       "      <td>b2</td>\n",
       "      <td>0</td>\n",
       "      <td>0</td>\n",
       "      <td>0</td>\n",
       "      <td>0</td>\n",
       "      <td>0</td>\n",
       "      <td>0</td>\n",
       "      <td>0</td>\n",
       "      <td>0</td>\n",
       "      <td>0</td>\n",
       "      <td>0</td>\n",
       "      <td>0</td>\n",
       "      <td>0</td>\n",
       "      <td>0</td>\n",
       "      <td>0</td>\n",
       "      <td>0</td>\n",
       "    </tr>\n",
       "    <tr>\n",
       "      <th>3</th>\n",
       "      <td>0</td>\n",
       "      <td>[[1, 1, 1, 1, 1, 1, 1, 1, 1, 1, 1, 1, 1, 1, 1,...</td>\n",
       "      <td>N0</td>\n",
       "      <td>0</td>\n",
       "      <td>0</td>\n",
       "      <td>0</td>\n",
       "      <td>0</td>\n",
       "      <td>0</td>\n",
       "      <td>0</td>\n",
       "      <td>0</td>\n",
       "      <td>0</td>\n",
       "      <td>0</td>\n",
       "      <td>0</td>\n",
       "      <td>0</td>\n",
       "      <td>0</td>\n",
       "      <td>0</td>\n",
       "      <td>0</td>\n",
       "      <td>0</td>\n",
       "    </tr>\n",
       "    <tr>\n",
       "      <th>4</th>\n",
       "      <td>0</td>\n",
       "      <td>[[1, 1, 1, 1, 1, 1, 1, 1, 1, 1, 1, 1, 1, 1, 1,...</td>\n",
       "      <td>b2</td>\n",
       "      <td>0</td>\n",
       "      <td>0</td>\n",
       "      <td>0</td>\n",
       "      <td>0</td>\n",
       "      <td>0</td>\n",
       "      <td>0</td>\n",
       "      <td>0</td>\n",
       "      <td>0</td>\n",
       "      <td>0</td>\n",
       "      <td>0</td>\n",
       "      <td>0</td>\n",
       "      <td>0</td>\n",
       "      <td>0</td>\n",
       "      <td>0</td>\n",
       "      <td>0</td>\n",
       "    </tr>\n",
       "  </tbody>\n",
       "</table>\n",
       "</div>"
      ],
      "text/plain": [
       "   ID                                                img label  b2  e2  N0  \\\n",
       "0   0  [[1, 1, 1, 1, 1, 1, 1, 1, 1, 1, 1, 1, 1, 1, 1,...    b2   0   0   0   \n",
       "1   0  [[1, 1, 1, 1, 1, 1, 1, 1, 1, 1, 1, 1, 1, 1, 1,...    e2   0   0   0   \n",
       "2   0  [[1, 1, 1, 1, 1, 1, 1, 1, 1, 1, 1, 1, 1, 1, 1,...    b2   0   0   0   \n",
       "3   0  [[1, 1, 1, 1, 1, 1, 1, 1, 1, 1, 1, 1, 1, 1, 1,...    N0   0   0   0   \n",
       "4   0  [[1, 1, 1, 1, 1, 1, 1, 1, 1, 1, 1, 1, 1, 1, 1,...    b2   0   0   0   \n",
       "\n",
       "   a2  g2  d2  c2  b1  e1  g1  f2  f1  a1  d1  c1  \n",
       "0   0   0   0   0   0   0   0   0   0   0   0   0  \n",
       "1   0   0   0   0   0   0   0   0   0   0   0   0  \n",
       "2   0   0   0   0   0   0   0   0   0   0   0   0  \n",
       "3   0   0   0   0   0   0   0   0   0   0   0   0  \n",
       "4   0   0   0   0   0   0   0   0   0   0   0   0  "
      ]
     },
     "execution_count": 15,
     "metadata": {},
     "output_type": "execute_result"
    }
   ],
   "source": [
    "unique_labels = df.label.unique()\n",
    "for label in unique_labels:\n",
    "    df[label] = 0\n",
    "df.head()"
   ]
  },
  {
   "cell_type": "code",
   "execution_count": 16,
   "metadata": {},
   "outputs": [
    {
     "data": {
      "text/html": [
       "<div>\n",
       "<style scoped>\n",
       "    .dataframe tbody tr th:only-of-type {\n",
       "        vertical-align: middle;\n",
       "    }\n",
       "\n",
       "    .dataframe tbody tr th {\n",
       "        vertical-align: top;\n",
       "    }\n",
       "\n",
       "    .dataframe thead th {\n",
       "        text-align: right;\n",
       "    }\n",
       "</style>\n",
       "<table border=\"1\" class=\"dataframe\">\n",
       "  <thead>\n",
       "    <tr style=\"text-align: right;\">\n",
       "      <th></th>\n",
       "      <th>ID</th>\n",
       "      <th>img</th>\n",
       "      <th>label</th>\n",
       "      <th>b2</th>\n",
       "      <th>e2</th>\n",
       "      <th>N0</th>\n",
       "      <th>a2</th>\n",
       "      <th>g2</th>\n",
       "      <th>d2</th>\n",
       "      <th>c2</th>\n",
       "      <th>b1</th>\n",
       "      <th>e1</th>\n",
       "      <th>g1</th>\n",
       "      <th>f2</th>\n",
       "      <th>f1</th>\n",
       "      <th>a1</th>\n",
       "      <th>d1</th>\n",
       "      <th>c1</th>\n",
       "    </tr>\n",
       "  </thead>\n",
       "  <tbody>\n",
       "    <tr>\n",
       "      <th>0</th>\n",
       "      <td>0</td>\n",
       "      <td>[[1, 1, 1, 1, 1, 1, 1, 1, 1, 1, 1, 1, 1, 1, 1,...</td>\n",
       "      <td>b2</td>\n",
       "      <td>1</td>\n",
       "      <td>0</td>\n",
       "      <td>0</td>\n",
       "      <td>0</td>\n",
       "      <td>0</td>\n",
       "      <td>0</td>\n",
       "      <td>0</td>\n",
       "      <td>0</td>\n",
       "      <td>0</td>\n",
       "      <td>0</td>\n",
       "      <td>0</td>\n",
       "      <td>0</td>\n",
       "      <td>0</td>\n",
       "      <td>0</td>\n",
       "      <td>0</td>\n",
       "    </tr>\n",
       "    <tr>\n",
       "      <th>1</th>\n",
       "      <td>0</td>\n",
       "      <td>[[1, 1, 1, 1, 1, 1, 1, 1, 1, 1, 1, 1, 1, 1, 1,...</td>\n",
       "      <td>e2</td>\n",
       "      <td>0</td>\n",
       "      <td>1</td>\n",
       "      <td>0</td>\n",
       "      <td>0</td>\n",
       "      <td>0</td>\n",
       "      <td>0</td>\n",
       "      <td>0</td>\n",
       "      <td>0</td>\n",
       "      <td>0</td>\n",
       "      <td>0</td>\n",
       "      <td>0</td>\n",
       "      <td>0</td>\n",
       "      <td>0</td>\n",
       "      <td>0</td>\n",
       "      <td>0</td>\n",
       "    </tr>\n",
       "    <tr>\n",
       "      <th>2</th>\n",
       "      <td>0</td>\n",
       "      <td>[[1, 1, 1, 1, 1, 1, 1, 1, 1, 1, 1, 1, 1, 1, 1,...</td>\n",
       "      <td>b2</td>\n",
       "      <td>1</td>\n",
       "      <td>0</td>\n",
       "      <td>0</td>\n",
       "      <td>0</td>\n",
       "      <td>0</td>\n",
       "      <td>0</td>\n",
       "      <td>0</td>\n",
       "      <td>0</td>\n",
       "      <td>0</td>\n",
       "      <td>0</td>\n",
       "      <td>0</td>\n",
       "      <td>0</td>\n",
       "      <td>0</td>\n",
       "      <td>0</td>\n",
       "      <td>0</td>\n",
       "    </tr>\n",
       "    <tr>\n",
       "      <th>3</th>\n",
       "      <td>0</td>\n",
       "      <td>[[1, 1, 1, 1, 1, 1, 1, 1, 1, 1, 1, 1, 1, 1, 1,...</td>\n",
       "      <td>N0</td>\n",
       "      <td>0</td>\n",
       "      <td>0</td>\n",
       "      <td>1</td>\n",
       "      <td>0</td>\n",
       "      <td>0</td>\n",
       "      <td>0</td>\n",
       "      <td>0</td>\n",
       "      <td>0</td>\n",
       "      <td>0</td>\n",
       "      <td>0</td>\n",
       "      <td>0</td>\n",
       "      <td>0</td>\n",
       "      <td>0</td>\n",
       "      <td>0</td>\n",
       "      <td>0</td>\n",
       "    </tr>\n",
       "    <tr>\n",
       "      <th>4</th>\n",
       "      <td>0</td>\n",
       "      <td>[[1, 1, 1, 1, 1, 1, 1, 1, 1, 1, 1, 1, 1, 1, 1,...</td>\n",
       "      <td>b2</td>\n",
       "      <td>1</td>\n",
       "      <td>0</td>\n",
       "      <td>0</td>\n",
       "      <td>0</td>\n",
       "      <td>0</td>\n",
       "      <td>0</td>\n",
       "      <td>0</td>\n",
       "      <td>0</td>\n",
       "      <td>0</td>\n",
       "      <td>0</td>\n",
       "      <td>0</td>\n",
       "      <td>0</td>\n",
       "      <td>0</td>\n",
       "      <td>0</td>\n",
       "      <td>0</td>\n",
       "    </tr>\n",
       "  </tbody>\n",
       "</table>\n",
       "</div>"
      ],
      "text/plain": [
       "   ID                                                img label  b2  e2  N0  \\\n",
       "0   0  [[1, 1, 1, 1, 1, 1, 1, 1, 1, 1, 1, 1, 1, 1, 1,...    b2   1   0   0   \n",
       "1   0  [[1, 1, 1, 1, 1, 1, 1, 1, 1, 1, 1, 1, 1, 1, 1,...    e2   0   1   0   \n",
       "2   0  [[1, 1, 1, 1, 1, 1, 1, 1, 1, 1, 1, 1, 1, 1, 1,...    b2   1   0   0   \n",
       "3   0  [[1, 1, 1, 1, 1, 1, 1, 1, 1, 1, 1, 1, 1, 1, 1,...    N0   0   0   1   \n",
       "4   0  [[1, 1, 1, 1, 1, 1, 1, 1, 1, 1, 1, 1, 1, 1, 1,...    b2   1   0   0   \n",
       "\n",
       "   a2  g2  d2  c2  b1  e1  g1  f2  f1  a1  d1  c1  \n",
       "0   0   0   0   0   0   0   0   0   0   0   0   0  \n",
       "1   0   0   0   0   0   0   0   0   0   0   0   0  \n",
       "2   0   0   0   0   0   0   0   0   0   0   0   0  \n",
       "3   0   0   0   0   0   0   0   0   0   0   0   0  \n",
       "4   0   0   0   0   0   0   0   0   0   0   0   0  "
      ]
     },
     "execution_count": 16,
     "metadata": {},
     "output_type": "execute_result"
    }
   ],
   "source": [
    "for i, label in enumerate(df.label):\n",
    "    df[label][i] = 1\n",
    "df.head()"
   ]
  },
  {
   "cell_type": "markdown",
   "metadata": {},
   "source": [
    "## Unify the shape"
   ]
  },
  {
   "cell_type": "code",
   "execution_count": 17,
   "metadata": {},
   "outputs": [],
   "source": [
    "def unify_shape(df):\n",
    "    rows, cols = [], []\n",
    "    for image in df.img:\n",
    "        rows.append(image.shape[0])\n",
    "        cols.append(image.shape[1])\n",
    "    \n",
    "    rows = max(rows)\n",
    "    cols = max(cols)\n",
    "    for i in range(len(df)):\n",
    "        add_rows = np.ones((rows - df['img'][i].shape[0], df['img'][i].shape[1]), dtype = int)\n",
    "        df['img'][i] = np.vstack((df['img'][i], add_rows))\n",
    "\n",
    "        add_cols = np.ones((rows, cols - df['img'][i].shape[1]), dtype = int)\n",
    "        df['img'][i] = np.hstack((df['img'][i], add_cols))\n",
    "    return df, rows, cols"
   ]
  },
  {
   "cell_type": "code",
   "execution_count": 18,
   "metadata": {},
   "outputs": [],
   "source": [
    "df, rows, cols = unify_shape(df)"
   ]
  },
  {
   "cell_type": "code",
   "execution_count": 19,
   "metadata": {},
   "outputs": [
    {
     "name": "stdout",
     "output_type": "stream",
     "text": [
      "(139, 171)\n",
      "(139, 171)\n",
      "(139, 171)\n",
      "(139, 171)\n",
      "(139, 171)\n"
     ]
    }
   ],
   "source": [
    "#checking shapes\n",
    "for x in df.img[:5]:\n",
    "    print(x.shape)"
   ]
  },
  {
   "cell_type": "markdown",
   "metadata": {},
   "source": [
    "## Training"
   ]
  },
  {
   "cell_type": "code",
   "execution_count": 20,
   "metadata": {},
   "outputs": [],
   "source": [
    "from sklearn import preprocessing\n",
    "from tensorflow.keras.utils import to_categorical\n",
    "from sklearn.model_selection import train_test_split\n",
    "from keras.models import Sequential\n",
    "from keras.layers import Dense, Conv2D, MaxPooling2D, GlobalAveragePooling2D, InputLayer"
   ]
  },
  {
   "cell_type": "code",
   "execution_count": 21,
   "metadata": {},
   "outputs": [],
   "source": [
    "X, y = np.asarray(df['img']), np.asarray(df.drop(columns=['ID','img','label']))"
   ]
  },
  {
   "cell_type": "code",
   "execution_count": 22,
   "metadata": {},
   "outputs": [
    {
     "data": {
      "text/plain": [
       "(419,)"
      ]
     },
     "execution_count": 22,
     "metadata": {},
     "output_type": "execute_result"
    }
   ],
   "source": [
    "X.shape"
   ]
  },
  {
   "cell_type": "code",
   "execution_count": 23,
   "metadata": {},
   "outputs": [],
   "source": [
    "#reshaping\n",
    "def reshape_x(X):\n",
    "    return np.asarray([x.reshape((rows, cols, 1)) for x in X])"
   ]
  },
  {
   "cell_type": "code",
   "execution_count": 24,
   "metadata": {},
   "outputs": [
    {
     "data": {
      "text/plain": [
       "(419, 139, 171, 1)"
      ]
     },
     "execution_count": 24,
     "metadata": {},
     "output_type": "execute_result"
    }
   ],
   "source": [
    "X = reshape_x(X)\n",
    "X.shape"
   ]
  },
  {
   "cell_type": "code",
   "execution_count": 25,
   "metadata": {},
   "outputs": [
    {
     "data": {
      "text/plain": [
       "(419, 15)"
      ]
     },
     "execution_count": 25,
     "metadata": {},
     "output_type": "execute_result"
    }
   ],
   "source": [
    "y.shape"
   ]
  },
  {
   "cell_type": "code",
   "execution_count": 26,
   "metadata": {},
   "outputs": [],
   "source": [
    "X_train, X_test, y_train, y_test = (train_test_split(X, y, test_size = .2, random_state = 42))"
   ]
  },
  {
   "cell_type": "code",
   "execution_count": 27,
   "metadata": {},
   "outputs": [
    {
     "name": "stdout",
     "output_type": "stream",
     "text": [
      "Model: \"sequential\"\n",
      "_________________________________________________________________\n",
      " Layer (type)                Output Shape              Param #   \n",
      "=================================================================\n",
      " conv2d (Conv2D)             (None, 139, 171, 10)      100       \n",
      "                                                                 \n",
      " max_pooling2d (MaxPooling2D  (None, 69, 85, 10)       0         \n",
      " )                                                               \n",
      "                                                                 \n",
      " conv2d_1 (Conv2D)           (None, 69, 85, 20)        1820      \n",
      "                                                                 \n",
      " conv2d_2 (Conv2D)           (None, 69, 85, 16)        2896      \n",
      "                                                                 \n",
      " max_pooling2d_1 (MaxPooling  (None, 34, 42, 16)       0         \n",
      " 2D)                                                             \n",
      "                                                                 \n",
      " conv2d_3 (Conv2D)           (None, 34, 42, 30)        4350      \n",
      "                                                                 \n",
      " global_average_pooling2d (G  (None, 30)               0         \n",
      " lobalAveragePooling2D)                                          \n",
      "                                                                 \n",
      " dense (Dense)               (None, 15)                465       \n",
      "                                                                 \n",
      "=================================================================\n",
      "Total params: 9,631\n",
      "Trainable params: 9,631\n",
      "Non-trainable params: 0\n",
      "_________________________________________________________________\n"
     ]
    }
   ],
   "source": [
    "NN = Sequential()\n",
    "NN.add(InputLayer(input_shape=X.shape[1:]))\n",
    "NN.add(Conv2D(filters=10, kernel_size=3, activation='relu', padding='same'))\n",
    "NN.add(MaxPooling2D())\n",
    "NN.add(Conv2D(filters=20, kernel_size=3, activation='relu', padding='same'))\n",
    "NN.add(Conv2D(filters=16, kernel_size=3, activation='relu', padding='same'))\n",
    "NN.add(MaxPooling2D())\n",
    "NN.add(Conv2D(filters=30, kernel_size=3, activation='relu', padding='same'))\n",
    "NN.add(GlobalAveragePooling2D())\n",
    "NN.add(Dense(df.label.nunique() , activation='softmax'))\n",
    "\n",
    "#compile is back propagation to edit the weight\n",
    "NN.compile(loss='categorical_crossentropy',optimizer='adam',metrics=['accuracy'])\n",
    "NN.summary()"
   ]
  },
  {
   "cell_type": "code",
   "execution_count": 28,
   "metadata": {
    "scrolled": true
   },
   "outputs": [
    {
     "name": "stdout",
     "output_type": "stream",
     "text": [
      "Epoch 1/150\n",
      "8/8 [==============================] - 6s 432ms/step - loss: 2.6985 - accuracy: 0.0677 - val_loss: 2.6761 - val_accuracy: 0.2024\n",
      "Epoch 2/150\n",
      "8/8 [==============================] - 3s 352ms/step - loss: 2.6530 - accuracy: 0.1474 - val_loss: 2.5968 - val_accuracy: 0.1548\n",
      "Epoch 3/150\n",
      "8/8 [==============================] - 3s 355ms/step - loss: 2.5823 - accuracy: 0.1633 - val_loss: 2.5217 - val_accuracy: 0.1548\n",
      "Epoch 4/150\n",
      "8/8 [==============================] - 3s 412ms/step - loss: 2.5624 - accuracy: 0.1633 - val_loss: 2.4955 - val_accuracy: 0.1548\n",
      "Epoch 5/150\n",
      "8/8 [==============================] - 4s 446ms/step - loss: 2.5372 - accuracy: 0.1594 - val_loss: 2.4863 - val_accuracy: 0.1667\n",
      "Epoch 6/150\n",
      "8/8 [==============================] - 3s 439ms/step - loss: 2.5347 - accuracy: 0.1554 - val_loss: 2.4631 - val_accuracy: 0.1667\n",
      "Epoch 7/150\n",
      "8/8 [==============================] - 3s 416ms/step - loss: 2.5281 - accuracy: 0.1554 - val_loss: 2.4318 - val_accuracy: 0.1667\n",
      "Epoch 8/150\n",
      "8/8 [==============================] - 3s 437ms/step - loss: 2.5164 - accuracy: 0.1633 - val_loss: 2.4434 - val_accuracy: 0.1548\n",
      "Epoch 9/150\n",
      "8/8 [==============================] - 3s 426ms/step - loss: 2.5123 - accuracy: 0.1633 - val_loss: 2.4393 - val_accuracy: 0.1548\n",
      "Epoch 10/150\n",
      "8/8 [==============================] - 3s 437ms/step - loss: 2.5115 - accuracy: 0.1633 - val_loss: 2.4354 - val_accuracy: 0.1548\n",
      "Epoch 11/150\n",
      "8/8 [==============================] - 4s 448ms/step - loss: 2.5012 - accuracy: 0.1633 - val_loss: 2.4255 - val_accuracy: 0.1548\n",
      "Epoch 12/150\n",
      "8/8 [==============================] - 3s 432ms/step - loss: 2.4884 - accuracy: 0.1633 - val_loss: 2.4113 - val_accuracy: 0.1548\n",
      "Epoch 13/150\n",
      "8/8 [==============================] - 3s 438ms/step - loss: 2.4699 - accuracy: 0.1474 - val_loss: 2.4232 - val_accuracy: 0.2262\n",
      "Epoch 14/150\n",
      "8/8 [==============================] - 4s 451ms/step - loss: 2.4517 - accuracy: 0.1554 - val_loss: 2.4465 - val_accuracy: 0.2381\n",
      "Epoch 15/150\n",
      "8/8 [==============================] - 3s 432ms/step - loss: 2.4361 - accuracy: 0.1713 - val_loss: 2.4581 - val_accuracy: 0.1310\n",
      "Epoch 16/150\n",
      "8/8 [==============================] - 4s 448ms/step - loss: 2.4432 - accuracy: 0.1554 - val_loss: 2.4143 - val_accuracy: 0.1905\n",
      "Epoch 17/150\n",
      "8/8 [==============================] - 4s 452ms/step - loss: 2.4254 - accuracy: 0.1514 - val_loss: 2.4733 - val_accuracy: 0.0952\n",
      "Epoch 18/150\n",
      "8/8 [==============================] - 3s 436ms/step - loss: 2.4195 - accuracy: 0.1673 - val_loss: 2.4575 - val_accuracy: 0.1190\n",
      "Epoch 19/150\n",
      "8/8 [==============================] - 3s 439ms/step - loss: 2.4139 - accuracy: 0.1912 - val_loss: 2.4203 - val_accuracy: 0.2381\n",
      "Epoch 20/150\n",
      "8/8 [==============================] - 3s 433ms/step - loss: 2.4194 - accuracy: 0.1753 - val_loss: 2.4702 - val_accuracy: 0.1905\n",
      "Epoch 21/150\n",
      "8/8 [==============================] - 3s 437ms/step - loss: 2.4056 - accuracy: 0.1793 - val_loss: 2.4743 - val_accuracy: 0.1667\n",
      "Epoch 22/150\n",
      "8/8 [==============================] - 3s 441ms/step - loss: 2.4072 - accuracy: 0.1554 - val_loss: 2.4980 - val_accuracy: 0.1310\n",
      "Epoch 23/150\n",
      "8/8 [==============================] - 3s 439ms/step - loss: 2.4023 - accuracy: 0.1514 - val_loss: 2.4674 - val_accuracy: 0.1429\n",
      "Epoch 24/150\n",
      "8/8 [==============================] - 3s 410ms/step - loss: 2.3989 - accuracy: 0.1713 - val_loss: 2.4656 - val_accuracy: 0.1786\n",
      "Epoch 25/150\n",
      "8/8 [==============================] - 4s 466ms/step - loss: 2.3910 - accuracy: 0.1713 - val_loss: 2.4954 - val_accuracy: 0.1071\n",
      "Epoch 26/150\n",
      "8/8 [==============================] - 4s 484ms/step - loss: 2.3973 - accuracy: 0.1514 - val_loss: 2.4532 - val_accuracy: 0.1310\n",
      "Epoch 27/150\n",
      "8/8 [==============================] - 4s 517ms/step - loss: 2.3916 - accuracy: 0.1753 - val_loss: 2.4891 - val_accuracy: 0.1071\n",
      "Epoch 28/150\n",
      "8/8 [==============================] - 3s 438ms/step - loss: 2.3858 - accuracy: 0.1793 - val_loss: 2.4642 - val_accuracy: 0.1310\n",
      "Epoch 29/150\n",
      "8/8 [==============================] - 4s 475ms/step - loss: 2.3925 - accuracy: 0.1713 - val_loss: 2.4512 - val_accuracy: 0.1310\n",
      "Epoch 30/150\n",
      "8/8 [==============================] - 3s 430ms/step - loss: 2.3882 - accuracy: 0.1793 - val_loss: 2.4622 - val_accuracy: 0.1310\n",
      "Epoch 31/150\n",
      "8/8 [==============================] - 4s 471ms/step - loss: 2.3907 - accuracy: 0.1753 - val_loss: 2.4941 - val_accuracy: 0.1190\n",
      "Epoch 32/150\n",
      "8/8 [==============================] - 4s 453ms/step - loss: 2.3819 - accuracy: 0.1833 - val_loss: 2.4410 - val_accuracy: 0.1190\n",
      "Epoch 33/150\n",
      "8/8 [==============================] - 3s 444ms/step - loss: 2.3790 - accuracy: 0.1793 - val_loss: 2.4696 - val_accuracy: 0.1071\n",
      "Epoch 34/150\n",
      "8/8 [==============================] - 3s 437ms/step - loss: 2.3865 - accuracy: 0.1992 - val_loss: 2.4496 - val_accuracy: 0.1310\n",
      "Epoch 35/150\n",
      "8/8 [==============================] - 3s 414ms/step - loss: 2.3843 - accuracy: 0.1833 - val_loss: 2.4761 - val_accuracy: 0.1190\n",
      "Epoch 36/150\n",
      "8/8 [==============================] - 3s 408ms/step - loss: 2.3798 - accuracy: 0.1594 - val_loss: 2.4621 - val_accuracy: 0.1548\n",
      "Epoch 37/150\n",
      "8/8 [==============================] - 3s 420ms/step - loss: 2.3787 - accuracy: 0.1594 - val_loss: 2.4797 - val_accuracy: 0.1190\n",
      "Epoch 38/150\n",
      "8/8 [==============================] - 3s 411ms/step - loss: 2.3878 - accuracy: 0.1713 - val_loss: 2.4774 - val_accuracy: 0.1190\n",
      "Epoch 39/150\n",
      "8/8 [==============================] - 3s 422ms/step - loss: 2.3718 - accuracy: 0.1713 - val_loss: 2.4833 - val_accuracy: 0.1071\n",
      "Epoch 40/150\n",
      "8/8 [==============================] - 3s 431ms/step - loss: 2.3679 - accuracy: 0.1912 - val_loss: 2.4692 - val_accuracy: 0.1071\n",
      "Epoch 41/150\n",
      "8/8 [==============================] - 3s 429ms/step - loss: 2.3764 - accuracy: 0.1873 - val_loss: 2.4672 - val_accuracy: 0.1071\n",
      "Epoch 42/150\n",
      "8/8 [==============================] - 3s 427ms/step - loss: 2.3623 - accuracy: 0.1873 - val_loss: 2.4969 - val_accuracy: 0.1071\n",
      "Epoch 43/150\n",
      "8/8 [==============================] - 3s 419ms/step - loss: 2.3645 - accuracy: 0.1873 - val_loss: 2.4626 - val_accuracy: 0.1310\n",
      "Epoch 44/150\n",
      "8/8 [==============================] - 3s 423ms/step - loss: 2.3623 - accuracy: 0.1833 - val_loss: 2.4729 - val_accuracy: 0.1429\n",
      "Epoch 45/150\n",
      "8/8 [==============================] - 3s 408ms/step - loss: 2.3667 - accuracy: 0.1753 - val_loss: 2.4654 - val_accuracy: 0.1190\n",
      "Epoch 46/150\n",
      "8/8 [==============================] - 3s 405ms/step - loss: 2.3668 - accuracy: 0.1633 - val_loss: 2.4984 - val_accuracy: 0.1071\n",
      "Epoch 47/150\n",
      "8/8 [==============================] - 3s 427ms/step - loss: 2.3768 - accuracy: 0.1793 - val_loss: 2.4436 - val_accuracy: 0.1190\n",
      "Epoch 48/150\n",
      "8/8 [==============================] - 3s 411ms/step - loss: 2.4008 - accuracy: 0.1753 - val_loss: 2.5253 - val_accuracy: 0.1190\n",
      "Epoch 49/150\n",
      "8/8 [==============================] - 3s 401ms/step - loss: 2.3513 - accuracy: 0.1713 - val_loss: 2.4117 - val_accuracy: 0.2143\n",
      "Epoch 50/150\n",
      "8/8 [==============================] - 3s 416ms/step - loss: 2.3626 - accuracy: 0.1793 - val_loss: 2.5029 - val_accuracy: 0.1071\n",
      "Epoch 51/150\n",
      "8/8 [==============================] - 3s 402ms/step - loss: 2.3545 - accuracy: 0.1434 - val_loss: 2.5106 - val_accuracy: 0.1071\n",
      "Epoch 52/150\n",
      "8/8 [==============================] - 4s 492ms/step - loss: 2.3600 - accuracy: 0.1992 - val_loss: 2.4296 - val_accuracy: 0.1310\n",
      "Epoch 53/150\n",
      "8/8 [==============================] - 4s 478ms/step - loss: 2.3577 - accuracy: 0.1873 - val_loss: 2.4828 - val_accuracy: 0.1071\n",
      "Epoch 54/150\n",
      "8/8 [==============================] - 4s 490ms/step - loss: 2.3442 - accuracy: 0.1992 - val_loss: 2.4694 - val_accuracy: 0.1429\n",
      "Epoch 55/150\n",
      "8/8 [==============================] - 3s 431ms/step - loss: 2.3436 - accuracy: 0.2032 - val_loss: 2.4912 - val_accuracy: 0.1071\n",
      "Epoch 56/150\n",
      "8/8 [==============================] - 3s 411ms/step - loss: 2.3445 - accuracy: 0.1474 - val_loss: 2.4702 - val_accuracy: 0.1548\n",
      "Epoch 57/150\n",
      "8/8 [==============================] - 3s 418ms/step - loss: 2.3372 - accuracy: 0.2032 - val_loss: 2.4637 - val_accuracy: 0.1905\n",
      "Epoch 58/150\n",
      "8/8 [==============================] - 3s 415ms/step - loss: 2.3319 - accuracy: 0.2032 - val_loss: 2.5177 - val_accuracy: 0.1071\n"
     ]
    },
    {
     "name": "stdout",
     "output_type": "stream",
     "text": [
      "Epoch 59/150\n",
      "8/8 [==============================] - 3s 425ms/step - loss: 2.3439 - accuracy: 0.1673 - val_loss: 2.4622 - val_accuracy: 0.1190\n",
      "Epoch 60/150\n",
      "8/8 [==============================] - 3s 423ms/step - loss: 2.3236 - accuracy: 0.2112 - val_loss: 2.4847 - val_accuracy: 0.1071\n",
      "Epoch 61/150\n",
      "8/8 [==============================] - 3s 415ms/step - loss: 2.3243 - accuracy: 0.1952 - val_loss: 2.4587 - val_accuracy: 0.1190\n",
      "Epoch 62/150\n",
      "8/8 [==============================] - 3s 433ms/step - loss: 2.3228 - accuracy: 0.1912 - val_loss: 2.4877 - val_accuracy: 0.1905\n",
      "Epoch 63/150\n",
      "8/8 [==============================] - 3s 408ms/step - loss: 2.3149 - accuracy: 0.1793 - val_loss: 2.4635 - val_accuracy: 0.1190\n",
      "Epoch 64/150\n",
      "8/8 [==============================] - 3s 418ms/step - loss: 2.3178 - accuracy: 0.1952 - val_loss: 2.4680 - val_accuracy: 0.1071\n",
      "Epoch 65/150\n",
      "8/8 [==============================] - 3s 427ms/step - loss: 2.3171 - accuracy: 0.2072 - val_loss: 2.4616 - val_accuracy: 0.1310\n",
      "Epoch 66/150\n",
      "8/8 [==============================] - 3s 421ms/step - loss: 2.3077 - accuracy: 0.1992 - val_loss: 2.4363 - val_accuracy: 0.1429\n",
      "Epoch 67/150\n",
      "8/8 [==============================] - 3s 440ms/step - loss: 2.3144 - accuracy: 0.1912 - val_loss: 2.4830 - val_accuracy: 0.1548\n",
      "Epoch 68/150\n",
      "8/8 [==============================] - 3s 443ms/step - loss: 2.3087 - accuracy: 0.2072 - val_loss: 2.4807 - val_accuracy: 0.1786\n",
      "Epoch 69/150\n",
      "8/8 [==============================] - 3s 439ms/step - loss: 2.3005 - accuracy: 0.1793 - val_loss: 2.4663 - val_accuracy: 0.1190\n",
      "Epoch 70/150\n",
      "8/8 [==============================] - 3s 419ms/step - loss: 2.2943 - accuracy: 0.2032 - val_loss: 2.4480 - val_accuracy: 0.1310\n",
      "Epoch 71/150\n",
      "8/8 [==============================] - 3s 425ms/step - loss: 2.2822 - accuracy: 0.2072 - val_loss: 2.4942 - val_accuracy: 0.1190\n",
      "Epoch 72/150\n",
      "8/8 [==============================] - 3s 421ms/step - loss: 2.2826 - accuracy: 0.2032 - val_loss: 2.4546 - val_accuracy: 0.1190\n",
      "Epoch 73/150\n",
      "8/8 [==============================] - 3s 420ms/step - loss: 2.2855 - accuracy: 0.2032 - val_loss: 2.4833 - val_accuracy: 0.1548\n",
      "Epoch 74/150\n",
      "8/8 [==============================] - 3s 413ms/step - loss: 2.2724 - accuracy: 0.1873 - val_loss: 2.4534 - val_accuracy: 0.2024\n",
      "Epoch 75/150\n",
      "8/8 [==============================] - 3s 406ms/step - loss: 2.2735 - accuracy: 0.2072 - val_loss: 2.4730 - val_accuracy: 0.1429\n",
      "Epoch 76/150\n",
      "8/8 [==============================] - 3s 418ms/step - loss: 2.2854 - accuracy: 0.2191 - val_loss: 2.4807 - val_accuracy: 0.1310\n",
      "Epoch 77/150\n",
      "8/8 [==============================] - 3s 401ms/step - loss: 2.2675 - accuracy: 0.2311 - val_loss: 2.4615 - val_accuracy: 0.1548\n",
      "Epoch 78/150\n",
      "8/8 [==============================] - 3s 405ms/step - loss: 2.2529 - accuracy: 0.2231 - val_loss: 2.4798 - val_accuracy: 0.1071\n",
      "Epoch 79/150\n",
      "8/8 [==============================] - 3s 405ms/step - loss: 2.2461 - accuracy: 0.2271 - val_loss: 2.4580 - val_accuracy: 0.1310\n",
      "Epoch 80/150\n",
      "8/8 [==============================] - 3s 406ms/step - loss: 2.2449 - accuracy: 0.2231 - val_loss: 2.4466 - val_accuracy: 0.1190\n",
      "Epoch 81/150\n",
      "8/8 [==============================] - 3s 402ms/step - loss: 2.2289 - accuracy: 0.2231 - val_loss: 2.4482 - val_accuracy: 0.2143\n",
      "Epoch 82/150\n",
      "8/8 [==============================] - 3s 407ms/step - loss: 2.2262 - accuracy: 0.2112 - val_loss: 2.4701 - val_accuracy: 0.1548\n",
      "Epoch 83/150\n",
      "8/8 [==============================] - 3s 411ms/step - loss: 2.2176 - accuracy: 0.2151 - val_loss: 2.4617 - val_accuracy: 0.2143\n",
      "Epoch 84/150\n",
      "8/8 [==============================] - 3s 405ms/step - loss: 2.2108 - accuracy: 0.2351 - val_loss: 2.5857 - val_accuracy: 0.1071\n",
      "Epoch 85/150\n",
      "8/8 [==============================] - 3s 412ms/step - loss: 2.2261 - accuracy: 0.2271 - val_loss: 2.4303 - val_accuracy: 0.1429\n",
      "Epoch 86/150\n",
      "8/8 [==============================] - 3s 413ms/step - loss: 2.2018 - accuracy: 0.2510 - val_loss: 2.4750 - val_accuracy: 0.2024\n",
      "Epoch 87/150\n",
      "8/8 [==============================] - 3s 416ms/step - loss: 2.1915 - accuracy: 0.2151 - val_loss: 2.4861 - val_accuracy: 0.1190\n",
      "Epoch 88/150\n",
      "8/8 [==============================] - 3s 416ms/step - loss: 2.1927 - accuracy: 0.2072 - val_loss: 2.5675 - val_accuracy: 0.1548\n",
      "Epoch 89/150\n",
      "8/8 [==============================] - 3s 405ms/step - loss: 2.1973 - accuracy: 0.2590 - val_loss: 2.4266 - val_accuracy: 0.1548\n",
      "Epoch 90/150\n",
      "8/8 [==============================] - 3s 410ms/step - loss: 2.1794 - accuracy: 0.2550 - val_loss: 2.5990 - val_accuracy: 0.1071\n",
      "Epoch 91/150\n",
      "8/8 [==============================] - 3s 402ms/step - loss: 2.1815 - accuracy: 0.2112 - val_loss: 2.4436 - val_accuracy: 0.1905\n",
      "Epoch 92/150\n",
      "8/8 [==============================] - 3s 407ms/step - loss: 2.1577 - accuracy: 0.2191 - val_loss: 2.4588 - val_accuracy: 0.1429\n",
      "Epoch 93/150\n",
      "8/8 [==============================] - 3s 417ms/step - loss: 2.1602 - accuracy: 0.2351 - val_loss: 2.5974 - val_accuracy: 0.1071\n",
      "Epoch 94/150\n",
      "8/8 [==============================] - 3s 406ms/step - loss: 2.1441 - accuracy: 0.2311 - val_loss: 2.4343 - val_accuracy: 0.1905\n",
      "Epoch 95/150\n",
      "8/8 [==============================] - 3s 407ms/step - loss: 2.1238 - accuracy: 0.2510 - val_loss: 2.5967 - val_accuracy: 0.1667\n",
      "Epoch 96/150\n",
      "8/8 [==============================] - 3s 410ms/step - loss: 2.1397 - accuracy: 0.2151 - val_loss: 2.4813 - val_accuracy: 0.1429\n",
      "Epoch 97/150\n",
      "8/8 [==============================] - 3s 434ms/step - loss: 2.1463 - accuracy: 0.2470 - val_loss: 2.4237 - val_accuracy: 0.2024\n",
      "Epoch 98/150\n",
      "8/8 [==============================] - 3s 427ms/step - loss: 2.1150 - accuracy: 0.2510 - val_loss: 2.4824 - val_accuracy: 0.1548\n",
      "Epoch 99/150\n",
      "8/8 [==============================] - 3s 404ms/step - loss: 2.1159 - accuracy: 0.2669 - val_loss: 2.5430 - val_accuracy: 0.1429\n",
      "Epoch 100/150\n",
      "8/8 [==============================] - 3s 404ms/step - loss: 2.0903 - accuracy: 0.2590 - val_loss: 2.4718 - val_accuracy: 0.1429\n",
      "Epoch 101/150\n",
      "8/8 [==============================] - 3s 408ms/step - loss: 2.1275 - accuracy: 0.2351 - val_loss: 2.4920 - val_accuracy: 0.1548\n",
      "Epoch 102/150\n",
      "8/8 [==============================] - 3s 404ms/step - loss: 2.1062 - accuracy: 0.2749 - val_loss: 2.5576 - val_accuracy: 0.2024\n",
      "Epoch 103/150\n",
      "8/8 [==============================] - 3s 428ms/step - loss: 2.0865 - accuracy: 0.2908 - val_loss: 2.4711 - val_accuracy: 0.1548\n",
      "Epoch 104/150\n",
      "8/8 [==============================] - 3s 411ms/step - loss: 2.1245 - accuracy: 0.2590 - val_loss: 2.6137 - val_accuracy: 0.2143\n",
      "Epoch 105/150\n",
      "8/8 [==============================] - 3s 434ms/step - loss: 2.0906 - accuracy: 0.2749 - val_loss: 2.4580 - val_accuracy: 0.1786\n",
      "Epoch 106/150\n",
      "8/8 [==============================] - 3s 440ms/step - loss: 2.0877 - accuracy: 0.2470 - val_loss: 2.4565 - val_accuracy: 0.1310\n",
      "Epoch 107/150\n",
      "8/8 [==============================] - 4s 450ms/step - loss: 2.0860 - accuracy: 0.2590 - val_loss: 2.4911 - val_accuracy: 0.1190\n",
      "Epoch 108/150\n",
      "8/8 [==============================] - 4s 453ms/step - loss: 2.0632 - accuracy: 0.2709 - val_loss: 2.4276 - val_accuracy: 0.2024\n",
      "Epoch 109/150\n",
      "8/8 [==============================] - 3s 407ms/step - loss: 2.0503 - accuracy: 0.2590 - val_loss: 2.6353 - val_accuracy: 0.1905\n",
      "Epoch 110/150\n",
      "8/8 [==============================] - 3s 401ms/step - loss: 2.0412 - accuracy: 0.2470 - val_loss: 2.4931 - val_accuracy: 0.1429\n",
      "Epoch 111/150\n",
      "8/8 [==============================] - 3s 403ms/step - loss: 2.0452 - accuracy: 0.2908 - val_loss: 2.5865 - val_accuracy: 0.2143\n",
      "Epoch 112/150\n",
      "8/8 [==============================] - 3s 434ms/step - loss: 2.0352 - accuracy: 0.2669 - val_loss: 2.4992 - val_accuracy: 0.1429\n",
      "Epoch 113/150\n",
      "8/8 [==============================] - 3s 422ms/step - loss: 2.0257 - accuracy: 0.2908 - val_loss: 2.4332 - val_accuracy: 0.2381\n",
      "Epoch 114/150\n",
      "8/8 [==============================] - 3s 409ms/step - loss: 1.9992 - accuracy: 0.2749 - val_loss: 2.5783 - val_accuracy: 0.1786\n",
      "Epoch 115/150\n",
      "8/8 [==============================] - 3s 419ms/step - loss: 2.0178 - accuracy: 0.2869 - val_loss: 2.5563 - val_accuracy: 0.1310\n",
      "Epoch 116/150\n"
     ]
    },
    {
     "name": "stdout",
     "output_type": "stream",
     "text": [
      "8/8 [==============================] - 3s 424ms/step - loss: 2.0317 - accuracy: 0.2629 - val_loss: 2.4945 - val_accuracy: 0.1310\n",
      "Epoch 117/150\n",
      "8/8 [==============================] - 3s 415ms/step - loss: 2.0168 - accuracy: 0.2709 - val_loss: 2.4454 - val_accuracy: 0.1905\n",
      "Epoch 118/150\n",
      "8/8 [==============================] - 3s 432ms/step - loss: 1.9934 - accuracy: 0.2749 - val_loss: 2.4863 - val_accuracy: 0.1905\n",
      "Epoch 119/150\n",
      "8/8 [==============================] - 3s 415ms/step - loss: 1.9865 - accuracy: 0.2829 - val_loss: 2.4826 - val_accuracy: 0.1667\n",
      "Epoch 120/150\n",
      "8/8 [==============================] - 3s 406ms/step - loss: 1.9973 - accuracy: 0.2550 - val_loss: 2.6220 - val_accuracy: 0.1548\n",
      "Epoch 121/150\n",
      "8/8 [==============================] - 3s 405ms/step - loss: 1.9996 - accuracy: 0.2829 - val_loss: 2.4647 - val_accuracy: 0.1786\n",
      "Epoch 122/150\n",
      "8/8 [==============================] - 3s 406ms/step - loss: 1.9722 - accuracy: 0.2789 - val_loss: 2.4875 - val_accuracy: 0.2024\n",
      "Epoch 123/150\n",
      "8/8 [==============================] - 3s 410ms/step - loss: 2.0003 - accuracy: 0.2590 - val_loss: 2.6809 - val_accuracy: 0.1905\n",
      "Epoch 124/150\n",
      "8/8 [==============================] - 3s 412ms/step - loss: 2.0157 - accuracy: 0.2908 - val_loss: 2.4601 - val_accuracy: 0.2143\n",
      "Epoch 125/150\n",
      "8/8 [==============================] - 3s 410ms/step - loss: 2.0330 - accuracy: 0.2908 - val_loss: 2.4504 - val_accuracy: 0.1429\n",
      "Epoch 126/150\n",
      "8/8 [==============================] - 3s 411ms/step - loss: 2.0393 - accuracy: 0.2829 - val_loss: 2.6005 - val_accuracy: 0.1786\n",
      "Epoch 127/150\n",
      "8/8 [==============================] - 3s 416ms/step - loss: 1.9744 - accuracy: 0.2789 - val_loss: 2.4337 - val_accuracy: 0.2024\n",
      "Epoch 128/150\n",
      "8/8 [==============================] - 3s 406ms/step - loss: 1.9651 - accuracy: 0.2869 - val_loss: 2.5537 - val_accuracy: 0.2143\n",
      "Epoch 129/150\n",
      "8/8 [==============================] - 3s 407ms/step - loss: 1.9621 - accuracy: 0.2948 - val_loss: 2.4593 - val_accuracy: 0.2262\n",
      "Epoch 130/150\n",
      "8/8 [==============================] - 3s 408ms/step - loss: 1.9591 - accuracy: 0.2629 - val_loss: 2.4672 - val_accuracy: 0.2143\n",
      "Epoch 131/150\n",
      "8/8 [==============================] - 3s 402ms/step - loss: 1.9732 - accuracy: 0.2789 - val_loss: 2.6006 - val_accuracy: 0.2262\n",
      "Epoch 132/150\n",
      "8/8 [==============================] - 3s 401ms/step - loss: 1.9727 - accuracy: 0.2869 - val_loss: 2.5080 - val_accuracy: 0.2143\n",
      "Epoch 133/150\n",
      "8/8 [==============================] - 3s 418ms/step - loss: 1.9526 - accuracy: 0.2550 - val_loss: 2.4411 - val_accuracy: 0.1667\n",
      "Epoch 134/150\n",
      "8/8 [==============================] - 3s 404ms/step - loss: 1.9330 - accuracy: 0.2869 - val_loss: 2.5965 - val_accuracy: 0.2262\n",
      "Epoch 135/150\n",
      "8/8 [==============================] - 3s 407ms/step - loss: 1.9755 - accuracy: 0.2709 - val_loss: 2.5084 - val_accuracy: 0.1548\n",
      "Epoch 136/150\n",
      "8/8 [==============================] - 3s 421ms/step - loss: 1.9583 - accuracy: 0.2869 - val_loss: 2.5170 - val_accuracy: 0.1548\n",
      "Epoch 137/150\n",
      "8/8 [==============================] - 3s 412ms/step - loss: 2.0013 - accuracy: 0.2510 - val_loss: 2.6096 - val_accuracy: 0.2024\n",
      "Epoch 138/150\n",
      "8/8 [==============================] - 3s 431ms/step - loss: 1.9594 - accuracy: 0.3068 - val_loss: 2.4929 - val_accuracy: 0.1310\n",
      "Epoch 139/150\n",
      "8/8 [==============================] - 3s 432ms/step - loss: 1.9284 - accuracy: 0.2709 - val_loss: 2.4690 - val_accuracy: 0.1905\n",
      "Epoch 140/150\n",
      "8/8 [==============================] - 3s 405ms/step - loss: 1.9476 - accuracy: 0.2789 - val_loss: 2.4411 - val_accuracy: 0.2143\n",
      "Epoch 141/150\n",
      "8/8 [==============================] - 3s 402ms/step - loss: 1.9826 - accuracy: 0.2908 - val_loss: 2.6760 - val_accuracy: 0.2143\n",
      "Epoch 142/150\n",
      "8/8 [==============================] - 3s 403ms/step - loss: 1.9515 - accuracy: 0.2749 - val_loss: 2.4540 - val_accuracy: 0.2381\n",
      "Epoch 143/150\n",
      "8/8 [==============================] - 3s 405ms/step - loss: 1.9429 - accuracy: 0.2470 - val_loss: 2.4281 - val_accuracy: 0.2024\n",
      "Epoch 144/150\n",
      "8/8 [==============================] - 3s 424ms/step - loss: 1.9176 - accuracy: 0.2829 - val_loss: 2.5557 - val_accuracy: 0.1786\n",
      "Epoch 145/150\n",
      "8/8 [==============================] - 3s 426ms/step - loss: 1.9197 - accuracy: 0.2988 - val_loss: 2.4631 - val_accuracy: 0.1429\n",
      "Epoch 146/150\n",
      "8/8 [==============================] - 3s 438ms/step - loss: 1.9218 - accuracy: 0.3028 - val_loss: 2.4387 - val_accuracy: 0.1905\n",
      "Epoch 147/150\n",
      "8/8 [==============================] - 3s 430ms/step - loss: 1.9339 - accuracy: 0.2948 - val_loss: 2.4933 - val_accuracy: 0.2024\n",
      "Epoch 148/150\n",
      "8/8 [==============================] - 3s 442ms/step - loss: 1.9185 - accuracy: 0.2829 - val_loss: 2.4829 - val_accuracy: 0.1905\n",
      "Epoch 149/150\n",
      "8/8 [==============================] - 3s 434ms/step - loss: 1.9335 - accuracy: 0.2629 - val_loss: 2.4806 - val_accuracy: 0.1667\n",
      "Epoch 150/150\n",
      "8/8 [==============================] - 3s 415ms/step - loss: 1.9075 - accuracy: 0.2988 - val_loss: 2.5379 - val_accuracy: 0.2381\n"
     ]
    }
   ],
   "source": [
    "NN.fit(X_train, y_train, epochs=150, verbose=1, validation_split=0.25);"
   ]
  }
 ],
 "metadata": {
  "kernelspec": {
   "display_name": "Python 3",
   "language": "python",
   "name": "python3"
  },
  "language_info": {
   "codemirror_mode": {
    "name": "ipython",
    "version": 3
   },
   "file_extension": ".py",
   "mimetype": "text/x-python",
   "name": "python",
   "nbconvert_exporter": "python",
   "pygments_lexer": "ipython3",
   "version": "3.7.4"
  }
 },
 "nbformat": 4,
 "nbformat_minor": 2
}
